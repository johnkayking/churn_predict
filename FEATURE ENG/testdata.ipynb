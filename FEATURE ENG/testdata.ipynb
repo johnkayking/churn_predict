{
 "cells": [
  {
   "cell_type": "code",
   "execution_count": null,
   "id": "dd6b3c5a",
   "metadata": {
    "vscode": {
     "languageId": "plaintext"
    }
   },
   "outputs": [],
   "source": [
    "import pandas as pd"
   ]
  }
 ],
 "metadata": {
  "language_info": {
   "name": "python"
  }
 },
 "nbformat": 4,
 "nbformat_minor": 5
}
